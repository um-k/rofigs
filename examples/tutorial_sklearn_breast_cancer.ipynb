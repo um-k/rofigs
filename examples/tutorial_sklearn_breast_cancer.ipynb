{
 "cells": [
  {
   "cell_type": "markdown",
   "metadata": {},
   "source": [
    "### Example: breast cancer\n",
    "\n",
    "This tutorial shows how to train `rofigs` on the brain cancer dataset from scikit-learn.\n",
    "\n",
    "Ensure that you have installed all required dependencies with `pip install -r requirements.txt`."
   ]
  },
  {
   "cell_type": "code",
   "execution_count": 1,
   "metadata": {},
   "outputs": [],
   "source": [
    "%load_ext autoreload        \n",
    "%autoreload 2"
   ]
  },
  {
   "cell_type": "code",
   "execution_count": 2,
   "metadata": {},
   "outputs": [],
   "source": [
    "import os\n",
    "import sys                                                    \n",
    "sys.path.insert(0, os.path.abspath('..'))           \n",
    "\n",
    "from sklearn.datasets import load_breast_cancer\n",
    "from sklearn.model_selection import train_test_split\n",
    "from sklearn.metrics import balanced_accuracy_score\n",
    "from src.rofigs import ROFIGSClassifier"
   ]
  },
  {
   "cell_type": "code",
   "execution_count": 3,
   "metadata": {},
   "outputs": [],
   "source": [
    "# Load the data from scikit-learn and split it into training and test sets \n",
    "X, y = load_breast_cancer(return_X_y=True)\n",
    "X_train, X_test, y_train, y_test = train_test_split(X, y, test_size=0.2, random_state=42)"
   ]
  },
  {
   "cell_type": "markdown",
   "metadata": {},
   "source": [
    "Fit and evaluate RO-FIGS models with various `beam_size` values"
   ]
  },
  {
   "cell_type": "code",
   "execution_count": 4,
   "metadata": {},
   "outputs": [
    {
     "name": "stdout",
     "output_type": "stream",
     "text": [
      "Balanced accuracy of the models on the test set with:\n",
      "\t beam_size = 1: 93.9\n",
      "\t beam_size = 5: 97.0\n",
      "\t beam_size = 30: 94.9\n"
     ]
    }
   ],
   "source": [
    "# fitting models with various beam_size values: 1, 5, 30 (=all)\n",
    "\n",
    "beam_sizes = [1, 5, 30]\n",
    "\n",
    "models = {}\n",
    "\n",
    "for beam_size in beam_sizes:\n",
    "    model = ROFIGSClassifier(beam_size=beam_size, max_splits=5, random_state=42)\n",
    "    model.fit(X_train, y_train)\n",
    "    models[beam_size] = model\n",
    "\n",
    "print(\"Balanced accuracy of the models on the test set with:\")\n",
    "for beam_size, model in models.items():\n",
    "    accuracy = 100 * balanced_accuracy_score(y_test, model.predict(X_test))\n",
    "    print(f\"\\t beam_size = {beam_size}: {accuracy:.1f}\")"
   ]
  },
  {
   "cell_type": "code",
   "execution_count": 5,
   "metadata": {},
   "outputs": [
    {
     "data": {
      "text/html": [
       "<style>#sk-container-id-1 {color: black;}#sk-container-id-1 pre{padding: 0;}#sk-container-id-1 div.sk-toggleable {background-color: white;}#sk-container-id-1 label.sk-toggleable__label {cursor: pointer;display: block;width: 100%;margin-bottom: 0;padding: 0.3em;box-sizing: border-box;text-align: center;}#sk-container-id-1 label.sk-toggleable__label-arrow:before {content: \"▸\";float: left;margin-right: 0.25em;color: #696969;}#sk-container-id-1 label.sk-toggleable__label-arrow:hover:before {color: black;}#sk-container-id-1 div.sk-estimator:hover label.sk-toggleable__label-arrow:before {color: black;}#sk-container-id-1 div.sk-toggleable__content {max-height: 0;max-width: 0;overflow: hidden;text-align: left;background-color: #f0f8ff;}#sk-container-id-1 div.sk-toggleable__content pre {margin: 0.2em;color: black;border-radius: 0.25em;background-color: #f0f8ff;}#sk-container-id-1 input.sk-toggleable__control:checked~div.sk-toggleable__content {max-height: 200px;max-width: 100%;overflow: auto;}#sk-container-id-1 input.sk-toggleable__control:checked~label.sk-toggleable__label-arrow:before {content: \"▾\";}#sk-container-id-1 div.sk-estimator input.sk-toggleable__control:checked~label.sk-toggleable__label {background-color: #d4ebff;}#sk-container-id-1 div.sk-label input.sk-toggleable__control:checked~label.sk-toggleable__label {background-color: #d4ebff;}#sk-container-id-1 input.sk-hidden--visually {border: 0;clip: rect(1px 1px 1px 1px);clip: rect(1px, 1px, 1px, 1px);height: 1px;margin: -1px;overflow: hidden;padding: 0;position: absolute;width: 1px;}#sk-container-id-1 div.sk-estimator {font-family: monospace;background-color: #f0f8ff;border: 1px dotted black;border-radius: 0.25em;box-sizing: border-box;margin-bottom: 0.5em;}#sk-container-id-1 div.sk-estimator:hover {background-color: #d4ebff;}#sk-container-id-1 div.sk-parallel-item::after {content: \"\";width: 100%;border-bottom: 1px solid gray;flex-grow: 1;}#sk-container-id-1 div.sk-label:hover label.sk-toggleable__label {background-color: #d4ebff;}#sk-container-id-1 div.sk-serial::before {content: \"\";position: absolute;border-left: 1px solid gray;box-sizing: border-box;top: 0;bottom: 0;left: 50%;z-index: 0;}#sk-container-id-1 div.sk-serial {display: flex;flex-direction: column;align-items: center;background-color: white;padding-right: 0.2em;padding-left: 0.2em;position: relative;}#sk-container-id-1 div.sk-item {position: relative;z-index: 1;}#sk-container-id-1 div.sk-parallel {display: flex;align-items: stretch;justify-content: center;background-color: white;position: relative;}#sk-container-id-1 div.sk-item::before, #sk-container-id-1 div.sk-parallel-item::before {content: \"\";position: absolute;border-left: 1px solid gray;box-sizing: border-box;top: 0;bottom: 0;left: 50%;z-index: -1;}#sk-container-id-1 div.sk-parallel-item {display: flex;flex-direction: column;z-index: 1;position: relative;background-color: white;}#sk-container-id-1 div.sk-parallel-item:first-child::after {align-self: flex-end;width: 50%;}#sk-container-id-1 div.sk-parallel-item:last-child::after {align-self: flex-start;width: 50%;}#sk-container-id-1 div.sk-parallel-item:only-child::after {width: 0;}#sk-container-id-1 div.sk-dashed-wrapped {border: 1px dashed gray;margin: 0 0.4em 0.5em 0.4em;box-sizing: border-box;padding-bottom: 0.4em;background-color: white;}#sk-container-id-1 div.sk-label label {font-family: monospace;font-weight: bold;display: inline-block;line-height: 1.2em;}#sk-container-id-1 div.sk-label-container {text-align: center;}#sk-container-id-1 div.sk-container {/* jupyter's `normalize.less` sets `[hidden] { display: none; }` but bootstrap.min.css set `[hidden] { display: none !important; }` so we also need the `!important` here to be able to override the default hidden behavior on the sphinx rendered scikit-learn.org. See: https://github.com/scikit-learn/scikit-learn/issues/21755 */display: inline-block !important;position: relative;}#sk-container-id-1 div.sk-text-repr-fallback {display: none;}</style><div id=\"sk-container-id-1\" class=\"sk-top-container\"><div class=\"sk-text-repr-fallback\"><pre>&gt; RO-FIGS:\n",
       "0.021 * X_13 &lt;= 0.947 (Tree #0 root)\n",
       "\t0.004 * X_23 &lt;= 3.449 (split)\n",
       "\t\t5.857 * X_26 &lt;= 2.179 (split)\n",
       "\t\t\tVal: 0.984 (leaf)\n",
       "\t\t\tVal: 0.444 (leaf)\n",
       "\t\t5.102 * X_26 &lt;= 1.439 (split)\n",
       "\t\t\tVal: 0.720 (leaf)\n",
       "\t\t\tVal: 0.163 (leaf)\n",
       "\t0.326 * X_0 &lt;= 4.816 (split)\n",
       "\t\tVal: 0.600 (leaf)\n",
       "\t\tVal: 0.020 (leaf)\n",
       "</pre><b>In a Jupyter environment, please rerun this cell to show the HTML representation or trust the notebook. <br />On GitHub, the HTML representation is unable to render, please try loading this page with nbviewer.org.</b></div><div class=\"sk-container\" hidden><div class=\"sk-item\"><div class=\"sk-estimator sk-toggleable\"><input class=\"sk-toggleable__control sk-hidden--visually\" id=\"sk-estimator-id-1\" type=\"checkbox\" checked><label for=\"sk-estimator-id-1\" class=\"sk-toggleable__label sk-toggleable__label-arrow\">ROFIGSClassifier</label><div class=\"sk-toggleable__content\"><pre>&gt; RO-FIGS:\n",
       "0.021 * X_13 &lt;= 0.947 (Tree #0 root)\n",
       "\t0.004 * X_23 &lt;= 3.449 (split)\n",
       "\t\t5.857 * X_26 &lt;= 2.179 (split)\n",
       "\t\t\tVal: 0.984 (leaf)\n",
       "\t\t\tVal: 0.444 (leaf)\n",
       "\t\t5.102 * X_26 &lt;= 1.439 (split)\n",
       "\t\t\tVal: 0.720 (leaf)\n",
       "\t\t\tVal: 0.163 (leaf)\n",
       "\t0.326 * X_0 &lt;= 4.816 (split)\n",
       "\t\tVal: 0.600 (leaf)\n",
       "\t\tVal: 0.020 (leaf)\n",
       "</pre></div></div></div></div></div>"
      ],
      "text/plain": [
       "ROFIGSClassifier(beam_size=1, max_splits=5, random_state=42)"
      ]
     },
     "execution_count": 5,
     "metadata": {},
     "output_type": "execute_result"
    }
   ],
   "source": [
    "models[1]"
   ]
  },
  {
   "cell_type": "markdown",
   "metadata": {},
   "source": [
    "Get the number of trees, splits, and average number of features per split"
   ]
  },
  {
   "cell_type": "code",
   "execution_count": 6,
   "metadata": {},
   "outputs": [
    {
     "name": "stdout",
     "output_type": "stream",
     "text": [
      "Model with beam_size = 1 has: 1 tree(s), 5 splits, and 1.0 features per split.\n",
      "Model with beam_size = 5 has: 1 tree(s), 5 splits, and 2.2 features per split.\n",
      "Model with beam_size = 30 has: 1 tree(s), 5 splits, and 10.0 features per split.\n"
     ]
    }
   ],
   "source": [
    "for beam_size, model in models.items():\n",
    "    print(f\"Model with beam_size = {beam_size} has: {model.count_trees()} tree(s), {model.count_splits()} splits, and {model.get_average_num_feat_per_split()} features per split.\")"
   ]
  }
 ],
 "metadata": {
  "kernelspec": {
   "display_name": ".venv",
   "language": "python",
   "name": "python3"
  },
  "language_info": {
   "codemirror_mode": {
    "name": "ipython",
    "version": 3
   },
   "file_extension": ".py",
   "mimetype": "text/x-python",
   "name": "python",
   "nbconvert_exporter": "python",
   "pygments_lexer": "ipython3",
   "version": "3.8.6"
  }
 },
 "nbformat": 4,
 "nbformat_minor": 2
}
